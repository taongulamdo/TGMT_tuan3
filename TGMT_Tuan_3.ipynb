{
  "nbformat": 4,
  "nbformat_minor": 0,
  "metadata": {
    "colab": {
      "provenance": [],
      "gpuType": "T4",
      "mount_file_id": "1-8KSyhWOkRyjqPwNFWSXf4QTeYBkqCh9",
      "authorship_tag": "ABX9TyOAz6QPFf0xEJmZ0Pgp6+g5",
      "include_colab_link": true
    },
    "kernelspec": {
      "name": "python3",
      "display_name": "Python 3"
    },
    "language_info": {
      "name": "python"
    },
    "accelerator": "GPU"
  },
  "cells": [
    {
      "cell_type": "markdown",
      "metadata": {
        "id": "view-in-github",
        "colab_type": "text"
      },
      "source": [
        "<a href=\"https://colab.research.google.com/github/taongulamdo/TGMT_tuan3/blob/main/TGMT_Tuan_3.ipynb\" target=\"_parent\"><img src=\"https://colab.research.google.com/assets/colab-badge.svg\" alt=\"Open In Colab\"/></a>"
      ]
    },
    {
      "cell_type": "code",
      "execution_count": null,
      "metadata": {
        "id": "xfDUBNLB8fGQ"
      },
      "outputs": [],
      "source": [
        "!pip install ultralytics"
      ]
    },
    {
      "cell_type": "code",
      "source": [
        "!wget https://github.com/ultralytics/assets/releases/download/v0.0.0/yolov8n.pt"
      ],
      "metadata": {
        "id": "V0C1dGtR8n72"
      },
      "execution_count": null,
      "outputs": []
    },
    {
      "cell_type": "code",
      "source": [
        "!yolo task=detect mode=train model=yolov8n.pt data=\"/content/drive/MyDrive/tgmt/data.yaml\" epochs=50 imgsz = 640"
      ],
      "metadata": {
        "id": "QLsFGpVaEdKH"
      },
      "execution_count": null,
      "outputs": []
    },
    {
      "cell_type": "code",
      "source": [
        "!yolo task=detect mode=predict model=/content/runs/detect/train8/weights/best.pt source=/content/drive/MyDrive/meetissai-internet-cat-sculptures-1.jpg"
      ],
      "metadata": {
        "colab": {
          "base_uri": "https://localhost:8080/"
        },
        "id": "qD6yVmTKEryY",
        "outputId": "b3ea084b-5c69-4082-af9a-d885e1de4df8"
      },
      "execution_count": null,
      "outputs": [
        {
          "output_type": "stream",
          "name": "stdout",
          "text": [
            "Ultralytics YOLOv8.0.183 🚀 Python-3.10.12 torch-2.0.1+cu118 CUDA:0 (Tesla T4, 15102MiB)\n",
            "Model summary (fused): 168 layers, 3005843 parameters, 0 gradients\n",
            "\n",
            "image 1/1 /content/drive/MyDrive/meetissai-internet-cat-sculptures-1.jpg: 544x640 (no detections), 54.6ms\n",
            "Speed: 3.0ms preprocess, 54.6ms inference, 1.0ms postprocess per image at shape (1, 3, 544, 640)\n",
            "Results saved to \u001b[1mruns/detect/predict2\u001b[0m\n",
            "💡 Learn more at https://docs.ultralytics.com/modes/predict\n"
          ]
        }
      ]
    },
    {
      "cell_type": "code",
      "source": [
        "!yolo task=detect mode=train model=/content/runs/detect/train8/weights/last.pt data=\"/content/drive/MyDrive/tgmt/data.yaml\" epochs=50 imgsz = 640"
      ],
      "metadata": {
        "id": "mnoTHfo0_OI5"
      },
      "execution_count": null,
      "outputs": []
    },
    {
      "cell_type": "code",
      "source": [
        "!yolo task=detect mode=predict model=/content/runs/detect/train9/weights/best.pt source=/content/drive/MyDrive/tgmt/test/images"
      ],
      "metadata": {
        "colab": {
          "base_uri": "https://localhost:8080/"
        },
        "id": "xfWNTm1bGGQw",
        "outputId": "4d93d7cd-04a0-485e-b292-ed2fdceb2a1f"
      },
      "execution_count": null,
      "outputs": [
        {
          "output_type": "stream",
          "name": "stdout",
          "text": [
            "Ultralytics YOLOv8.0.183 🚀 Python-3.10.12 torch-2.0.1+cu118 CUDA:0 (Tesla T4, 15102MiB)\n",
            "Model summary (fused): 168 layers, 3005843 parameters, 0 gradients\n",
            "\n",
            "image 1/18 /content/drive/MyDrive/tgmt/test/images/0066-J3l4Zf33nfc_jpg.rf.383d5bcd3ef60f04ec23c8ffd36d69de.jpg: 640x640 1 Cats, 8.2ms\n",
            "image 2/18 /content/drive/MyDrive/tgmt/test/images/0262-jo9XwI6B8Rs_jpg.rf.7fb55bdcd52d24ffd635e25d8aa7e4ea.jpg: 640x640 1 Cats, 9.1ms\n",
            "image 3/18 /content/drive/MyDrive/tgmt/test/images/0340-LfHN48aCVtE_jpg.rf.8290ac3445a59d63ffae8292195dfd00.jpg: 640x640 3 Catss, 8.7ms\n",
            "image 4/18 /content/drive/MyDrive/tgmt/test/images/0366-6B-WeK_fT8M_jpg.rf.c7b6cb31fa6fc3f788048c434d43b105.jpg: 640x640 1 Cats, 8.2ms\n",
            "image 5/18 /content/drive/MyDrive/tgmt/test/images/0502-xxdTZFljIfw_jpg.rf.093904c6fedff15104711843f5832aa5.jpg: 640x640 2 Catss, 7.4ms\n",
            "image 6/18 /content/drive/MyDrive/tgmt/test/images/1101-WMH1xzEznuY_jpg.rf.676977a5b57a822403c8972b53c18a78.jpg: 640x640 1 Cats, 7.4ms\n",
            "image 7/18 /content/drive/MyDrive/tgmt/test/images/1377-QvqfyLHM6GM_jpg.rf.70ff08d5d2e02475afa785379ea73ac5.jpg: 640x640 1 Cats, 7.4ms\n",
            "image 8/18 /content/drive/MyDrive/tgmt/test/images/1501-22bl-hths7o_jpg.rf.835ce13d1dbbfb150d94912afe9a8074.jpg: 640x640 1 Cats, 10.6ms\n",
            "image 9/18 /content/drive/MyDrive/tgmt/test/images/1590-66NrNlC36u8_jpg.rf.54be644eb2a117998536c1c709030d32.jpg: 640x640 1 Cats, 7.4ms\n",
            "image 10/18 /content/drive/MyDrive/tgmt/test/images/1614-7xSWybUM7l0_jpg.rf.03a2bc9d680487c81ea3223a5da5b663.jpg: 640x640 3 Catss, 9.2ms\n",
            "image 11/18 /content/drive/MyDrive/tgmt/test/images/1718-MqXWogtgq18_jpg.rf.63b30742d519b1a236f6ae1447e9d902.jpg: 640x640 2 Catss, 7.4ms\n",
            "image 12/18 /content/drive/MyDrive/tgmt/test/images/1981-VZm3NEcemiE_jpg.rf.500e3ac862b7974db9b63fdc667b194c.jpg: 640x640 1 Cats, 10.6ms\n",
            "image 13/18 /content/drive/MyDrive/tgmt/test/images/2T7OkT9RmTY_jpg.rf.7f68fbcbf3cd762eeefb2c42526c7807.jpg: 640x640 1 Cats, 7.4ms\n",
            "image 14/18 /content/drive/MyDrive/tgmt/test/images/3136-m4ojA8PCiSU_jpg.rf.94bbbd1f205393bd96edeb086ad9a936.jpg: 640x640 1 Cats, 7.4ms\n",
            "image 15/18 /content/drive/MyDrive/tgmt/test/images/3pA7x0G8xOY_jpg.rf.8500a1ca1fb9d9409e55c89ce55cceea.jpg: 640x640 1 Cats, 7.3ms\n",
            "image 16/18 /content/drive/MyDrive/tgmt/test/images/Ic64CrKUNJY_jpg.rf.5df8f03d1a1e3eb766205e519427cef8.jpg: 640x640 (no detections), 7.3ms\n",
            "image 17/18 /content/drive/MyDrive/tgmt/test/images/S2IGnPjVCJs_jpg.rf.5b5c93288819429fe061491c755270ea.jpg: 640x640 1 Cats, 7.4ms\n",
            "image 18/18 /content/drive/MyDrive/tgmt/test/images/m8Y1ELIEJ60_jpg.rf.00a284cb489c7732ecf66e314c49b4a7.jpg: 640x640 1 Cats, 7.3ms\n",
            "Speed: 2.2ms preprocess, 8.1ms inference, 1.6ms postprocess per image at shape (1, 3, 640, 640)\n",
            "Results saved to \u001b[1mruns/detect/predict4\u001b[0m\n",
            "💡 Learn more at https://docs.ultralytics.com/modes/predict\n"
          ]
        }
      ]
    }
  ]
}